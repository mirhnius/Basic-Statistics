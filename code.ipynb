{
 "cells": [
  {
   "cell_type": "markdown",
   "metadata": {},
   "source": [
    "### Niusha Sadat Mirhakimi"
   ]
  },
  {
   "cell_type": "markdown",
   "metadata": {},
   "source": [
    "#Basic Statistics"
   ]
  },
  {
   "cell_type": "code",
   "execution_count": 117,
   "metadata": {},
   "outputs": [],
   "source": [
    "import numpy as np\n",
    "import matplotlib.pyplot as plt\n",
    "from scipy import stats\n",
    "from dists import *\n",
    "import warnings\n",
    "warnings.filterwarnings('ignore')"
   ]
  },
  {
   "cell_type": "markdown",
   "metadata": {},
   "source": [
    "# Problem #1 - Parameter Estimation\n",
    "\n",
    "**A) By calling `my_kappa(n_sample, student_id)`, draw a sample of size 100 from the my_kappa distribution.**"
   ]
  },
  {
   "cell_type": "code",
   "execution_count": 116,
   "metadata": {},
   "outputs": [
    {
     "data": {
      "image/png": "[encoded data removed]",
      "text/plain": [
       "<Figure size 432x288 with 1 Axes>"
      ]
     },
     "metadata": {
      "needs_background": "light"
     },
     "output_type": "display_data"
    }
   ],
   "source": [
    "samples = my_kappa(100, 810196569)\n",
    "a=plt.hist(samples, bins=10)"
   ]
  },
  {
   "cell_type": "markdown",
   "metadata": {},
   "source": [
    "**B) Calculate and print the mean of the sample you've just drawn.**"
   ]
  },
  {
   "cell_type": "code",
   "execution_count": 104,
   "metadata": {},
   "outputs": [
    {
     "name": "stdout",
     "output_type": "stream",
     "text": [
      "Sample mean is: 0.455\n"
     ]
    }
   ],
   "source": [
    "sample_mean = samples.mean()\n",
    "print(\"Sample mean is: {0:0.3f}\".format(sample_mean))"
   ]
  },
  {
   "cell_type": "markdown",
   "metadata": {},
   "source": [
    "**C) Calculate the *unbiased estimation* of the standard deviation of your sample.**"
   ]
  },
  {
   "cell_type": "code",
   "execution_count": 105,
   "metadata": {},
   "outputs": [
    {
     "name": "stdout",
     "output_type": "stream",
     "text": [
      "Sample standard deviation is: 4.318\n"
     ]
    }
   ],
   "source": [
    "sample_std = np.sqrt(samples.var(ddof=1)) \n",
    "print(\"Sample standard deviation is: {0:0.3f}\".format(sample_std))"
   ]
  },
  {
   "cell_type": "markdown",
   "metadata": {},
   "source": [
    "The sample standard deviation is a biased estimator it can be mathematically proved. For having unbiased estimation n-1 should be used rather than n in the denominator."
   ]
  },
  {
   "cell_type": "markdown",
   "metadata": {},
   "source": [
    "**D) Answer the following questions.**\n",
    "- What is an unbiased estimator?\n",
    "- In what situations the maximum likelihood estimation of the variance of a distribution can severely contaminate the estimation?\n",
    "\n",
    "~ Type your answer here ...\n",
    "\n",
    "1) An unbiased estimator is an estimator that its expected value is equal to true value of the parameter. That is mean that the estimator is on average correct. For finite amounts of data the estimated parameter is unlikely to have the true value. A good estimator has the equal chances of over- and underestimation of the true value. Such an estimator is unbiased.\n",
    "$$ E(x)= x $$\n",
    "\n",
    "\n",
    "\n",
    "2) \n",
    "- The maximum likelihood estimation for variance is a biased estimation, and it doesn't work well for a small number of data points (for large N it becomes unbiased). The sample size has a significant effect on sample variance. As the number of samples increases, we have a better estimation of the mean and get a more accurate variance. Mathematically can be shown as the number of samples increases sample variance coverage to population variance. For a low number of samples, the mean can behave very erratically, darting around μ because it is sensitive to a very large or very small number. By increasing the sample size, the effect of each datapoint decrease, and mean is more accurate.\n",
    " \n",
    "- Also, the MLE presumed that the random variable comes from a known distribution(normal). This assumption may hugely influence our estimation if the assumed distribution of data was not correct."
   ]
  },
  {
   "cell_type": "markdown",
   "metadata": {},
   "source": [
    "**E) Now, draw 2000 samples of size 100 and store their means in an array You're going to use this array in the next questions.**"
   ]
  },
  {
   "cell_type": "code",
   "execution_count": 106,
   "metadata": {},
   "outputs": [],
   "source": [
    "all_samples = np.zeros((2000,100))\n",
    "all_means = np.zeros((2000,1))\n",
    "for i in range(2000):\n",
    "    smpl = my_kappa(100, 810196569) \n",
    "    all_samples[i,:] = smpl\n",
    "    all_means[i,0] = smpl.mean()"
   ]
  },
  {
   "cell_type": "markdown",
   "metadata": {},
   "source": [
    "# Problem #2 - Data Visualization and CLT"
   ]
  },
  {
   "cell_type": "markdown",
   "metadata": {},
   "source": [
    "**A) Draw a sample of size 2000 from my_kappa distribution. Then, using matplotlib package, depict the histogram of your sample.**"
   ]
  },
  {
   "cell_type": "code",
   "execution_count": 113,
   "metadata": {},
   "outputs": [
    {
     "data": {
      "image/png": "[encoded data removed]",
      "text/plain": [
       "<Figure size 432x288 with 1 Axes>"
      ]
     },
     "metadata": {
      "needs_background": "light"
     },
     "output_type": "display_data"
    }
   ],
   "source": [
    "smpl_2000 = my_kappa(2000, 810196569)\n",
    "mu = smpl_2000.mean()\n",
    "a = plt.hist(smpl_2000, bins=50)\n",
    "plt.plot([mu,mu], [0,400], '-k', lw=4, color='lightblue')\n",
    "plt.title(\"Sample Distribution\")\n",
    "plt.show()"
   ]
  },
  {
   "cell_type": "markdown",
   "metadata": {},
   "source": [
    "**B) Now, plot the histogram of the sample means you've calculate in problem 1 part E.**"
   ]
  },
  {
   "cell_type": "code",
   "execution_count": 114,
   "metadata": {},
   "outputs": [
    {
     "data": {
      "image/png": "[encoded data removed]",
      "text/plain": [
       "<Figure size 432x288 with 1 Axes>"
      ]
     },
     "metadata": {
      "needs_background": "light"
     },
     "output_type": "display_data"
    }
   ],
   "source": [
    "a = plt.hist(all_means, bins=50)\n",
    "plt.title(\"Sampling Distribution for N=100\")\n",
    "plt.show()"
   ]
  },
  {
   "cell_type": "markdown",
   "metadata": {},
   "source": [
    "**C) Considering the 2000 realizations of the sample means distribution you've calculated in problem 1 part E, compute their mean and standard deviation.**"
   ]
  },
  {
   "cell_type": "code",
   "execution_count": 109,
   "metadata": {},
   "outputs": [
    {
     "name": "stdout",
     "output_type": "stream",
     "text": [
      "Mean of sample means is: 0.001\n",
      "standard deviation of sample means is: 0.439\n"
     ]
    }
   ],
   "source": [
    "mean_of_sample_means = all_means.mean()\n",
    "std_of_sample_means = np.sqrt(all_means.var(ddof=1))#unbiased\n",
    "print(\"Mean of sample means is: {0:0.3f}\".format(mean_of_sample_means))\n",
    "print(\"standard deviation of sample means is: {0:0.3f}\".format(std_of_sample_means))"
   ]
  },
  {
   "cell_type": "markdown",
   "metadata": {},
   "source": [
    "**D) Answer the following questions.**\n",
    "- What do you think is the main characteristic of the second histogram?\n",
    "- Interpret the results of part C. Do these results have any association with your estimation of the mean of my_kappa distribution? Explain.\n",
    "\n",
    "~Type your answer here ...\n",
    "\n",
    "1) The sampling distribution has a normal characteristic. The central limit theorem states that if you have a population with mean μ and standard deviation σ and take sufficiently large random samples from the population with replacement, then the distribution of samples will be approximately normally distributed.\n",
    "\n",
    "\n",
    "2) As the mean is an unbiased estimator, the mean of sample distribution converges to the real mean. Also, sampling distribution has a real mean of the distribution, as a result they are approximately equal. Cause we don't know the real variance, we use sample variance as estimation of population variance, and we see the sampling distribution has 100 times (size of each sampling set) smaller variance as we expected."
   ]
  },
  {
   "cell_type": "markdown",
   "metadata": {},
   "source": [
    "# Problem #3 - Confidence Interval"
   ]
  },
  {
   "cell_type": "markdown",
   "metadata": {},
   "source": [
    "**A) Construct a 95% confidence interval on the sample means of my_kappa distribution. Your result, obviously, consists of two numbers: a lower bound and an upper bound of the calculated interval.**"
   ]
  },
  {
   "cell_type": "code",
   "execution_count": 122,
   "metadata": {},
   "outputs": [],
   "source": [
    "Sampling_mean_sd = sample_std/np.sqrt(100)#estimated sampling means standard deviation\n",
    "ratio = stats.norm.ppf((1+.95)/2)\n",
    "confidence = ratio * Sampling_mean_sd\n",
    "upper_bound = mean_of_sample_means + confidence\n",
    "lower_bound = mean_of_sample_means - confidence\n",
    "#-.0196 +- 1.96*.041"
   ]
  },
  {
   "cell_type": "code",
   "execution_count": 111,
   "metadata": {},
   "outputs": [
    {
     "name": "stdout",
     "output_type": "stream",
     "text": [
      "Upper bound is:  0.847\n",
      "Lower bound is: -0.846\n"
     ]
    },
    {
     "data": {
      "image/png": "[encoded data removed]",
      "text/plain": [
       "<Figure size 504x360 with 1 Axes>"
      ]
     },
     "metadata": {
      "needs_background": "light"
     },
     "output_type": "display_data"
    }
   ],
   "source": [
    "plt.figure(figsize=(7, 5))\n",
    "a = plt.hist(all_means, bins=50)\n",
    "plt.plot([mean_of_sample_means,mean_of_sample_means], [0,123], '-k', lw=4, color='lightblue')\n",
    "plt.plot([upper_bound,upper_bound], [0,123], '-k', lw=4, color='green')\n",
    "plt.plot([lower_bound,lower_bound], [0,123], '-k', lw=4, color='green')\n",
    "print(\"Upper bound is:  {0:0.3f}\".format(upper_bound))#this is two sided confidence\n",
    "print(\"Lower bound is: {0:0.3f}\".format(lower_bound))"
   ]
  },
  {
   "cell_type": "markdown",
   "metadata": {},
   "source": [
    "**B) What does this interval mean?**"
   ]
  },
  {
   "cell_type": "markdown",
   "metadata": {},
   "source": [
    "It means that with 95% confidence and certainty, the real mean of population distribution exists in this interval."
   ]
  },
  {
   "cell_type": "markdown",
   "metadata": {},
   "source": [
    "# Problem #4 - Estimating The Parameters of Some Observations\n",
    "\n",
    "**In this problem, you're going to estimate the average of a random variable. In contrast with previous problems, this time the observations are collected one by one. To observe a single realization of this random variable, call `my_omicron(student_id)` function. Upon calling this function, a single observation/realization of this random variable is returned.**"
   ]
  },
  {
   "cell_type": "markdown",
   "metadata": {},
   "source": [
    "**A) Draw 100 samples from my_omicron distribution. After observing each realization, calculate the sample mean of the realizations you've observed so far. In addition to that, construct a confidence interval for your estimation at 0.1 significane level. Finally, plot your estimations in a bar plot alongside their confidence errors as whisckers of each bar. Your final plot should be similar to this:**\n",
    "\n",
    "<img src=\"https://support.content.office.net/en-us/media/68efe29e-f30c-4c6f-95cf-9cff7dde1131.jpg\" width=\"400px\" alt=\"no internet connection!\">"
   ]
  },
  {
   "cell_type": "code",
   "execution_count": 123,
   "metadata": {},
   "outputs": [],
   "source": [
    "ratio = stats.norm.ppf((1+.90)/2)\n",
    "\n",
    "samples = []\n",
    "means = np.zeros((100,1))\n",
    "confidence = np.zeros((100,1))\n",
    "for i in range(100):\n",
    "    samples.append(my_omicron(810196569))\n",
    "    smpl = np.array(samples)\n",
    "    means[i,0] = smpl.mean()\n",
    "    if(i == 0):\n",
    "        sigma = np.sqrt(smpl.var(ddof=0)/i+1)\n",
    "    else:\n",
    "        sigma = np.sqrt(smpl.var(ddof=1)/i+1)\n",
    "        \n",
    "    confidence[i,0] = 2 * sigma * ratio"
   ]
  },
  {
   "cell_type": "code",
   "execution_count": 124,
   "metadata": {},
   "outputs": [
    {
     "data": {
      "image/png": "[encoded data removed]",
      "text/plain": [
       "<Figure size 1080x864 with 1 Axes>"
      ]
     },
     "metadata": {
      "needs_background": "light"
     },
     "output_type": "display_data"
    }
   ],
   "source": [
    "x = list(range(1,101))\n",
    "plt.figure(figsize=(15, 12))\n",
    "plt.title(\"Mean of sample data for each iteration\")\n",
    "plt.xlabel(\"Number of iteration\")\n",
    "plt.xlim(0, 100)\n",
    "plt.ylim(-30, 30)\n",
    "plt.errorbar(x, means, yerr=confidence, fmt='.k')\n",
    "plt.show(block=False)"
   ]
  },
  {
   "cell_type": "markdown",
   "metadata": {},
   "source": [
    "**B) How is your estimation changing over time? How is your confidence interval changing? Explain why.**\n",
    "\n",
    "As the number of samples increases, the confidence boundary decreases dramatically until its change rate becomes small.\n",
    "Because we have a few data points at first that might be too far from each other, so the standard deviation becomes big. As we know, standard deviation of sampling mean directly relates to standard deviation sample distribution and reverse relation with sample size. So at first, we see big intervals, and it becomes smaller after a good number of iterations because for large sample size, the effect of fluctuations lessens. \n",
    "\n",
    "~ For a large number of N, we see the probability constrained more and more near the mean, and the variance of sampling distribution become small. "
   ]
  },
  {
   "cell_type": "code",
   "execution_count": null,
   "metadata": {},
   "outputs": [],
   "source": []
  }
 ],
 "metadata": {
  "interpreter": {
   "hash": "8da01e5a71448ea74f54d88afa8911010d1d12e23bc7e103d40d5def4a09152c"
  },
  "kernelspec": {
   "display_name": "Python 3.9.0 64-bit",
   "name": "python3"
  },
  "language_info": {
   "name": "python",
   "version": ""
  },
  "toc": {
   "base_numbering": 1,
   "nav_menu": {},
   "number_sections": true,
   "sideBar": true,
   "skip_h1_title": false,
   "title_cell": "Table of Contents",
   "title_sidebar": "Contents",
   "toc_cell": false,
   "toc_position": {},
   "toc_section_display": true,
   "toc_window_display": false
  },
  "varInspector": {
   "cols": {
    "lenName": 16,
    "lenType": 16,
    "lenVar": 40
   },
   "kernels_config": {
    "python": {
     "delete_cmd_postfix": "",
     "delete_cmd_prefix": "del ",
     "library": "var_list.py",
     "varRefreshCmd": "print(var_dic_list())"
    },
    "r": {
     "delete_cmd_postfix": ") ",
     "delete_cmd_prefix": "rm(",
     "library": "var_list.r",
     "varRefreshCmd": "cat(var_dic_list()) "
    }
   },
   "types_to_exclude": [
    "module",
    "function",
    "builtin_function_or_method",
    "instance",
    "_Feature"
   ],
   "window_display": false
  }
 },
 "nbformat": 4,
 "nbformat_minor": 2
}